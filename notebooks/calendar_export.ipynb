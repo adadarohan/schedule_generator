{
 "cells": [
  {
   "cell_type": "code",
   "execution_count": 19,
   "metadata": {},
   "outputs": [],
   "source": [
    "import json\n",
    "from ics import Calendar, Event\n",
    "from datetime import datetime\n",
    "from ics.grammar.parse import ContentLine\n",
    "from dateutil.relativedelta import relativedelta\n",
    "import pytz"
   ]
  },
  {
   "cell_type": "code",
   "execution_count": 20,
   "metadata": {},
   "outputs": [],
   "source": [
    "# Load the JSON file stored in the same directory as input.json\n",
    "with open('input.json') as f:\n",
    "    data = json.load(f)\n",
    "\n",
    "schedule = data[0]['schedule']\n",
    "weekdays = {\n",
    "    'M':'MO',\n",
    "    'T':'TU',\n",
    "    'W':'WE',\n",
    "    'R':'TH',\n",
    "    'F':'FR',\n",
    "    'S':'SA',\n",
    "    'U':'SU'\n",
    "}\n",
    "\n",
    "weekday_list = ['M', 'T', 'W', 'R', 'F', 'S', 'U']"
   ]
  },
  {
   "cell_type": "code",
   "execution_count": 21,
   "metadata": {},
   "outputs": [],
   "source": [
    "c = Calendar()\n",
    "\n",
    "for class_ in schedule:\n",
    "    e = Event()\n",
    "    e.name = class_['class']['code'] + ' ' + class_['class']['number'] + ' ' + class_['type']\n",
    "    e.geo = (class_['coordinates'][0], class_['coordinates'][1])\n",
    "    e.location = class_['building_name'] + ' ' + class_['room_number']\n",
    "    \n",
    "    # Parse date and time strings into datetime objects\n",
    "    start_date_obj = datetime.strptime(class_['start_date'], \"%Y-%m-%d %H:%M:%S\")\n",
    "    end_date_obj = datetime.strptime(class_['end_date'], \"%Y-%m-%d %H:%M:%S\")\n",
    "    start_time_obj = datetime.strptime(class_['start_time'], \"%Y-%m-%d %H:%M:%S\").time()\n",
    "    end_time_obj = datetime.strptime(class_['end_time'], \"%Y-%m-%d %H:%M:%S\").time()\n",
    "\n",
    "    # Set actual start date to be the nearest weekday speficied in the JSON\n",
    "    days_index_list = [weekday_list.index(day) for day in class_['days']]\n",
    "    possible_start_datetimes = []\n",
    "    for day_index in days_index_list:\n",
    "        possible_start_datetimes.append(start_date_obj + relativedelta(weekday=day_index))\n",
    "    actual_start_date_obj = min(possible_start_datetimes)\n",
    "\n",
    "    timezone = pytz.timezone(\"US/Central\")\n",
    "\n",
    "    # Combine date and time\n",
    "    start_datetime = timezone.localize(datetime.combine(actual_start_date_obj.date(), start_time_obj))\n",
    "    end_datetime = timezone.localize(datetime.combine(actual_start_date_obj.date(), end_time_obj))\n",
    "\n",
    "    e.begin = start_datetime\n",
    "    e.end = end_datetime\n",
    "\n",
    "\n",
    "    #RRULE:FREQ=WEEKLY; DTSTART:20240116T000000;UNTIL=20240501T000000;BYDAY=MO,WE\n",
    "\n",
    "    rrule_string = f\"FREQ=WEEKLY; DTSTART={start_date_obj.strftime('%Y%m%dT%H%M%S')};UNTIL={end_date_obj.strftime('%Y%m%dT%H%M%S')};BYDAY={','.join([weekdays[day] for day in class_['days']])}\"\n",
    "\n",
    "    e.extra.append(ContentLine(name=\"RRULE\", value=rrule_string))\n",
    "    \n",
    "    c.events.add(e)\n"
   ]
  },
  {
   "cell_type": "code",
   "execution_count": 22,
   "metadata": {},
   "outputs": [],
   "source": [
    "with open('calendar.ics', 'w') as f:\n",
    "    f.writelines(c.serialize_iter())"
   ]
  }
 ],
 "metadata": {
  "kernelspec": {
   "display_name": "Python 3",
   "language": "python",
   "name": "python3"
  },
  "language_info": {
   "codemirror_mode": {
    "name": "ipython",
    "version": 3
   },
   "file_extension": ".py",
   "mimetype": "text/x-python",
   "name": "python",
   "nbconvert_exporter": "python",
   "pygments_lexer": "ipython3",
   "version": "3.10.13"
  }
 },
 "nbformat": 4,
 "nbformat_minor": 2
}
