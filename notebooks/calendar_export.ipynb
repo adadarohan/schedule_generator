{
 "cells": [
  {
   "cell_type": "code",
   "execution_count": 1,
   "metadata": {},
   "outputs": [],
   "source": [
    "import json\n",
    "from ics import Calendar, Event\n",
    "from datetime import datetime\n",
    "from ics.grammar.parse import ContentLine\n",
    "from dateutil.relativedelta import relativedelta\n",
    "import pytz"
   ]
  },
  {
   "cell_type": "code",
   "execution_count": 2,
   "metadata": {},
   "outputs": [
    {
     "ename": "FileNotFoundError",
     "evalue": "[Errno 2] No such file or directory: 'input.json'",
     "output_type": "error",
     "traceback": [
      "\u001b[0;31m---------------------------------------------------------------------------\u001b[0m",
      "\u001b[0;31mFileNotFoundError\u001b[0m                         Traceback (most recent call last)",
      "Cell \u001b[0;32mIn[2], line 2\u001b[0m\n\u001b[1;32m      1\u001b[0m \u001b[38;5;66;03m# Load the JSON file stored in the same directory as input.json\u001b[39;00m\n\u001b[0;32m----> 2\u001b[0m \u001b[38;5;28;01mwith\u001b[39;00m \u001b[38;5;28;43mopen\u001b[39;49m\u001b[43m(\u001b[49m\u001b[38;5;124;43m'\u001b[39;49m\u001b[38;5;124;43minput.json\u001b[39;49m\u001b[38;5;124;43m'\u001b[39;49m\u001b[43m)\u001b[49m \u001b[38;5;28;01mas\u001b[39;00m f:\n\u001b[1;32m      3\u001b[0m     data \u001b[38;5;241m=\u001b[39m json\u001b[38;5;241m.\u001b[39mload(f)\n\u001b[1;32m      5\u001b[0m schedule \u001b[38;5;241m=\u001b[39m data[\u001b[38;5;241m0\u001b[39m][\u001b[38;5;124m'\u001b[39m\u001b[38;5;124mschedule\u001b[39m\u001b[38;5;124m'\u001b[39m]\n",
      "File \u001b[0;32m~/.local/lib/python3.10/site-packages/IPython/core/interactiveshell.py:284\u001b[0m, in \u001b[0;36m_modified_open\u001b[0;34m(file, *args, **kwargs)\u001b[0m\n\u001b[1;32m    277\u001b[0m \u001b[38;5;28;01mif\u001b[39;00m file \u001b[38;5;129;01min\u001b[39;00m {\u001b[38;5;241m0\u001b[39m, \u001b[38;5;241m1\u001b[39m, \u001b[38;5;241m2\u001b[39m}:\n\u001b[1;32m    278\u001b[0m     \u001b[38;5;28;01mraise\u001b[39;00m \u001b[38;5;167;01mValueError\u001b[39;00m(\n\u001b[1;32m    279\u001b[0m         \u001b[38;5;124mf\u001b[39m\u001b[38;5;124m\"\u001b[39m\u001b[38;5;124mIPython won\u001b[39m\u001b[38;5;124m'\u001b[39m\u001b[38;5;124mt let you open fd=\u001b[39m\u001b[38;5;132;01m{\u001b[39;00mfile\u001b[38;5;132;01m}\u001b[39;00m\u001b[38;5;124m by default \u001b[39m\u001b[38;5;124m\"\u001b[39m\n\u001b[1;32m    280\u001b[0m         \u001b[38;5;124m\"\u001b[39m\u001b[38;5;124mas it is likely to crash IPython. If you know what you are doing, \u001b[39m\u001b[38;5;124m\"\u001b[39m\n\u001b[1;32m    281\u001b[0m         \u001b[38;5;124m\"\u001b[39m\u001b[38;5;124myou can use builtins\u001b[39m\u001b[38;5;124m'\u001b[39m\u001b[38;5;124m open.\u001b[39m\u001b[38;5;124m\"\u001b[39m\n\u001b[1;32m    282\u001b[0m     )\n\u001b[0;32m--> 284\u001b[0m \u001b[38;5;28;01mreturn\u001b[39;00m \u001b[43mio_open\u001b[49m\u001b[43m(\u001b[49m\u001b[43mfile\u001b[49m\u001b[43m,\u001b[49m\u001b[43m \u001b[49m\u001b[38;5;241;43m*\u001b[39;49m\u001b[43margs\u001b[49m\u001b[43m,\u001b[49m\u001b[43m \u001b[49m\u001b[38;5;241;43m*\u001b[39;49m\u001b[38;5;241;43m*\u001b[39;49m\u001b[43mkwargs\u001b[49m\u001b[43m)\u001b[49m\n",
      "\u001b[0;31mFileNotFoundError\u001b[0m: [Errno 2] No such file or directory: 'input.json'"
     ]
    }
   ],
   "source": [
    "# Load the JSON file stored in the same directory as input.json\n",
    "with open('input.json') as f:\n",
    "    data = json.load(f)\n",
    "\n",
    "schedule = data[0]['schedule']\n",
    "weekdays = {\n",
    "    'M':'MO',\n",
    "    'T':'TU',\n",
    "    'W':'WE',\n",
    "    'R':'TH',\n",
    "    'F':'FR',\n",
    "    'S':'SA',\n",
    "    'U':'SU'\n",
    "}\n",
    "\n",
    "weekday_list = ['M', 'T', 'W', 'R', 'F', 'S', 'U']"
   ]
  },
  {
   "cell_type": "code",
   "execution_count": null,
   "metadata": {},
   "outputs": [],
   "source": [
    "c = Calendar()\n",
    "\n",
    "for class_ in schedule:\n",
    "    e = Event()\n",
    "    e.name = class_['class']['code'] + ' ' + class_['class']['number'] + ' ' + class_['type']\n",
    "    e.geo = (class_['coordinates'][0], class_['coordinates'][1])\n",
    "    e.location = class_['building_name'] + ' ' + class_['room_number']\n",
    "    \n",
    "    # Parse date and time strings into datetime objects\n",
    "    start_date_obj = datetime.strptime(class_['start_date'], \"%Y-%m-%d %H:%M:%S\")\n",
    "    end_date_obj = datetime.strptime(class_['end_date'], \"%Y-%m-%d %H:%M:%S\")\n",
    "    start_time_obj = datetime.strptime(class_['start_time'], \"%Y-%m-%d %H:%M:%S\").time()\n",
    "    end_time_obj = datetime.strptime(class_['end_time'], \"%Y-%m-%d %H:%M:%S\").time()\n",
    "\n",
    "    # Set actual start date to be the nearest weekday speficied in the JSON\n",
    "    days_index_list = [weekday_list.index(day) for day in class_['days']]\n",
    "    possible_start_datetimes = []\n",
    "    for day_index in days_index_list:\n",
    "        possible_start_datetimes.append(start_date_obj + relativedelta(weekday=day_index))\n",
    "    actual_start_date_obj = min(possible_start_datetimes)\n",
    "\n",
    "    timezone = pytz.timezone(\"US/Central\")\n",
    "\n",
    "    # Combine date and time\n",
    "    start_datetime = timezone.localize(datetime.combine(actual_start_date_obj.date(), start_time_obj))\n",
    "    end_datetime = timezone.localize(datetime.combine(actual_start_date_obj.date(), end_time_obj))\n",
    "\n",
    "    e.begin = start_datetime\n",
    "    e.end = end_datetime\n",
    "\n",
    "\n",
    "    #RRULE:FREQ=WEEKLY; DTSTART:20240116T000000;UNTIL=20240501T000000;BYDAY=MO,WE\n",
    "\n",
    "    rrule_string = f\"FREQ=WEEKLY; DTSTART={start_date_obj.strftime('%Y%m%dT%H%M%S')};UNTIL={end_date_obj.strftime('%Y%m%dT%H%M%S')};BYDAY={','.join([weekdays[day] for day in class_['days']])}\"\n",
    "\n",
    "    e.extra.append(ContentLine(name=\"RRULE\", value=rrule_string))\n",
    "    \n",
    "    c.events.add(e)\n"
   ]
  },
  {
   "cell_type": "code",
   "execution_count": null,
   "metadata": {},
   "outputs": [],
   "source": [
    "with open('calendar.ics', 'w') as f:\n",
    "    f.writelines(c.serialize_iter())"
   ]
  }
 ],
 "metadata": {
  "kernelspec": {
   "display_name": "Python 3",
   "language": "python",
   "name": "python3"
  },
  "language_info": {
   "codemirror_mode": {
    "name": "ipython",
    "version": 3
   },
   "file_extension": ".py",
   "mimetype": "text/x-python",
   "name": "python",
   "nbconvert_exporter": "python",
   "pygments_lexer": "ipython3",
   "version": "3.10.13"
  }
 },
 "nbformat": 4,
 "nbformat_minor": 2
}
