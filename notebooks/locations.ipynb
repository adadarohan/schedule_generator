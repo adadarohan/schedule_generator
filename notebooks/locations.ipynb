{
 "cells": [
  {
   "cell_type": "code",
   "execution_count": 1,
   "metadata": {},
   "outputs": [
    {
     "ename": "NameError",
     "evalue": "name 'mongodb_uri' is not defined",
     "output_type": "error",
     "traceback": [
      "\u001b[0;31m---------------------------------------------------------------------------\u001b[0m",
      "\u001b[0;31mNameError\u001b[0m                                 Traceback (most recent call last)",
      "\u001b[1;32m/home/rohan/code/schedule_generator/notebooks/locations.ipynb Cell 1\u001b[0m line \u001b[0;36m2\n\u001b[1;32m      <a href='vscode-notebook-cell://wsl%2Bubuntu-20.04/home/rohan/code/schedule_generator/notebooks/locations.ipynb#W0sdnNjb2RlLXJlbW90ZQ%3D%3D?line=0'>1</a>\u001b[0m \u001b[39mimport\u001b[39;00m \u001b[39mpymongo\u001b[39;00m\n\u001b[0;32m----> <a href='vscode-notebook-cell://wsl%2Bubuntu-20.04/home/rohan/code/schedule_generator/notebooks/locations.ipynb#W0sdnNjb2RlLXJlbW90ZQ%3D%3D?line=1'>2</a>\u001b[0m client \u001b[39m=\u001b[39m pymongo\u001b[39m.\u001b[39mMongoClient(mongodb_uri)\n\u001b[1;32m      <a href='vscode-notebook-cell://wsl%2Bubuntu-20.04/home/rohan/code/schedule_generator/notebooks/locations.ipynb#W0sdnNjb2RlLXJlbW90ZQ%3D%3D?line=2'>3</a>\u001b[0m db \u001b[39m=\u001b[39m client[\u001b[39m\"\u001b[39m\u001b[39mschedule\u001b[39m\u001b[39m\"\u001b[39m]\n\u001b[1;32m      <a href='vscode-notebook-cell://wsl%2Bubuntu-20.04/home/rohan/code/schedule_generator/notebooks/locations.ipynb#W0sdnNjb2RlLXJlbW90ZQ%3D%3D?line=3'>4</a>\u001b[0m classes \u001b[39m=\u001b[39m db[\u001b[39m\"\u001b[39m\u001b[39mclasses\u001b[39m\u001b[39m\"\u001b[39m]\n",
      "\u001b[0;31mNameError\u001b[0m: name 'mongodb_uri' is not defined"
     ]
    }
   ],
   "source": [
    "import pymongo\n",
    "client = pymongo.MongoClient(mongodb_uri)\n",
    "db = client[\"schedule\"]\n",
    "classes = db[\"classes\"]\n",
    "locations = db[\"locations\"]"
   ]
  },
  {
   "cell_type": "code",
   "execution_count": null,
   "metadata": {},
   "outputs": [
    {
     "name": "stdout",
     "output_type": "stream",
     "text": [
      "1010 W Nevada , Illinois /// School of Social Work, 1010, West Nevada Street, West Urbana, Urbana, Champaign County, Illinois, 61801, United States\n",
      "1203 1/2 W Nevada , Illinois /// Nevada Building Computer Lab, 1203 1/2, West Nevada Street, Urbana, Champaign County, Illinois, 61801, United States\n",
      "1205 W Nevada , Illinois /// Nevada, Livingston County, Illinois, United States\n",
      "1205 W Oregon , Illinois /// Oregon, Oregon - Nashua Township, Ogle County, Illinois, 61061, United States\n",
      "1207 W Oregon , Illinois /// Department of Latina/Latino Studies, 1207, West Oregon Street, Urbana, Champaign County, Illinois, 61801, United States\n",
      "805 W Pennsylvania , Illinois /// Pennsylvania, Elsah, Jersey County, Illinois, 62028, United States\n",
      "901 W Oregon , Illinois /// 901, West Oregon Trail Road, Oregon, Oregon - Nashua Township, Ogle County, Illinois, 61061, United States\n",
      "907 1/2 W Nevada , Illinois /// West Nevada Avenue, Glendale Heights, DuPage County, Illinois, 60139, United States\n",
      "No results found for ACES Lib, Info & Alum Ctr\n",
      "Activities & Recreation Center , Illinois /// Activities and Recreation Center, 201, East Peabody Drive, Stanley O. Ikenberry Commons, Champaign, Champaign County, Illinois, 61820, United States\n",
      "No results found for Agricultural Engr Sciences Bld\n",
      "No results found for Allen Residence Hall\n",
      "Animal Sciences Laboratory , Illinois /// Animal Sciences Laboratory, West Gregory Drive, Urbana, Champaign County, Illinois, 61801, United States\n",
      "No results found for Architecture Annex\n",
      "Architecture Building , Illinois /// Architecture Building, West Lorado Taft Drive, Champaign, Champaign County, Illinois, 61820, United States\n",
      "Armory , Illinois /// Armory, 505, East Armory Avenue, Campustown, Champaign, Champaign County, Illinois, 61820, United States\n",
      "No results found for Art and Design Building\n",
      "No results found for Art-East Annex, Studio 2\n",
      "Astronomy Building , Illinois /// Astronomy Building, 1002, West Green Street, Urbana, Champaign County, Illinois, 61801, United States\n",
      "Bevier Hall , Illinois /// Bevier Hall, 905, South Goodwin Avenue, Urbana, Champaign County, Illinois, 61801, United States\n",
      "Burrill Hall , Illinois /// Burrill Hall, South Mathews Avenue, Urbana, Champaign County, Illinois, 61801, United States\n",
      "No results found for Business Instructional Fac\n",
      "Campus Instructional Facility , Illinois /// Campus Instructional Facility, 1405, Springfield Avenue, Urbana, Champaign County, Illinois, 61801, United States\n",
      "Campus Recreation Center East , Illinois /// Campus Recreation Center East, 1102, West Gregory Drive, Urbana, Champaign County, Illinois, 61801, United States\n",
      "Carle Foundation Hospital , Illinois /// Carle Foundation Hospital, 611, West Park Street, Urbana, Champaign County, Illinois, 61801, United States\n",
      "Ceramics Building , Illinois /// Ceramics Building, 3711, West 111th Street, Mount Greenwood, Chicago, Lake Township, Cook County, Illinois, 60655, United States\n",
      "Ceramics Kiln House , Illinois /// Ceramics Kiln House, South Goodwin Avenue, Urbana, Champaign County, Illinois, 61801, United States\n",
      "No results found for Chemical and Life Sci Lab\n",
      "Chemistry Annex , Illinois /// Chemistry Annex, South Mathews Avenue, Urbana, Champaign County, Illinois, 61801, United States\n",
      "Child Development Laboratory , Illinois /// Early Child Development Laboratory, 1005, West Nevada Street, West Urbana, Urbana, Champaign County, Illinois, 61801, United States\n",
      "No results found for Civil & Envir Eng Bldg\n",
      "No results found for Civil Eng Hydrosystems Lab\n",
      "No results found for Coordinated Science Lab\n",
      "Dance Studio , Illinois /// Arabesque Dance Studio, West Illinois Avenue, Carterville, Williamson County, Illinois, 62918, United States\n",
      "Danville IL , Illinois /// Danville, Vermilion County, Illinois, United States\n",
      "Davenport Hall , Illinois /// Davenport Hall, South Mathews Avenue, Urbana, Champaign County, Illinois, 61801, United States\n",
      "David Kinley Hall , Illinois /// David Kinley Hall, 1407, West Gregory Drive, Urbana, Champaign County, Illinois, 61801, United States\n",
      "Digital Computer Laboratory , Illinois /// Digital Computer Laboratory, West Stoughton Street, Urbana, Champaign County, Illinois, 61801, United States\n",
      "No results found for E R Madigan Laboratory\n",
      "Education Building , Illinois /// Education Building, Peabody Drive, Champaign, Champaign County, Illinois, 61820, United States\n",
      "No results found for Electrical & Computer Eng Bldg\n",
      "Engineering Hall , Illinois /// Engineering Hall, 1308, West Green Street, Urbana, Champaign County, Illinois, 61801, United States\n",
      "Engineering Sciences Building , Illinois /// Engineering Sciences Building, West Springfield Avenue, Downtown Urbana, Urbana, Champaign County, Illinois, 61801, United States\n",
      "English Building , Illinois /// English Building, South Wright Street, Campustown, Champaign, Champaign County, Illinois, 61820, United States\n",
      "Everitt Laboratory , Illinois /// Everitt Laboratory, 1406, West Green Street, Urbana, Champaign County, Illinois, 61801, United States\n",
      "No results found for Expanded Child Dev Lab\n",
      "No results found for FAR Meeting Space\n",
      "Flagg Hall , Illinois /// Flagg Hall, Euclid Street, Stanley O. Ikenberry Commons, Champaign, Champaign County, Illinois, 61820, United States\n",
      "Foellinger Auditorium , Illinois /// Foellinger Auditorium, 709, South Mathews Avenue, Urbana, Champaign County, Illinois, 61801, United States\n",
      "Freer Hall , Illinois /// Freer Hall, West Gregory Drive, Urbana, Champaign County, Illinois, 61801, United States\n",
      "No results found for Grad Sch of Lib & Info Science\n",
      "Gregory Hall , Illinois /// Gregory Hall, Rosemary Road, Lake Forest, Lake County, Illinois, 60045, United States\n",
      "Harding Band Building , Illinois /// Harding Band Building, South Sixth Street, Champaign, Champaign County, Illinois, 61820, United States\n",
      "Henry Administration Bldg , Illinois /// Henry Administration Building, 506, South Wright Street, Campustown, Urbana, Champaign County, Illinois, 61801, United States\n",
      "Huff Hall , Illinois /// Huff Hall, 1206, South Fourth Street, Stanley O. Ikenberry Commons, Champaign, Champaign County, Illinois, 61820, United States\n",
      "Ice Arena , Illinois /// Ice Arena, East Armory Avenue, Campustown, Champaign, Champaign County, Illinois, 61820, United States\n",
      "Illini Union , Illinois /// Illini Union, 1401, West Green Street, Urbana, Champaign County, Illinois, 61801, United States\n",
      "No results found for Illinois Street Residence Lng\n",
      "No results found for Inst Labor &  Industrial Rel\n",
      "Institute for Genomic Biology , Illinois /// Institute for Genomic Biology (IGB), 1206, West Gregory Drive, Urbana, Champaign County, Illinois, 61801, United States\n",
      "Japan House , Illinois /// Japan House, 2000, South Lincoln Avenue, Urbana, Champaign County, Illinois, 61801, United States\n",
      "Krannert Art Museum , Illinois /// Krannert Art Museum, 500, Peabody Drive, Champaign, Champaign County, Illinois, 61820, United States\n",
      "No results found for Krannert Center for Perf Arts\n",
      "Law Building , Illinois /// Miller Davis Building, East Front Street, Bloomington, McLean County, Illinois, 61701, United States\n",
      "Library , Illinois /// Harold Washington Library-State/Van Buren, 1, West Van Buren Street, Printer's Row, Loop, Chicago, Cook County, Illinois, 60605, United States\n",
      "Lincoln Avenue Residence Hall , Illinois /// Lincoln Avenue Residence Hall, 1005, South Lincoln Avenue, West Urbana, Urbana, Champaign County, Illinois, 61801, United States\n",
      "Lincoln Hall , Illinois /// Lincoln Hall, 2424, North Lincoln Avenue, Lincoln Park, Chicago, Lake View Township, Cook County, Illinois, 60614, United States\n",
      "No results found for Literatures, Cultures, & Ling\n",
      "Loomis Laboratory , Illinois /// Loomis Laboratory, South Goodwin Avenue, Urbana, Champaign County, Illinois, 61801, United States\n",
      "No results found for Materials Science & Eng Bld\n",
      "No results found for Meat Science Laboratory\n",
      "Mechanical Engineering Lab , Illinois /// Mechanical Engineering Lab, 105, South Mathews Avenue, Urbana, Champaign County, Illinois, 61801, United States\n",
      "Medical Sciences Building , Illinois /// Medical Sciences Building, South Mathews Avenue, Urbana, Champaign County, Illinois, 61801, United States\n",
      "No results found for Micro & Nanotechnology Lab\n",
      "Morrill Hall , Illinois /// Morrill Hall, South Goodwin Avenue, Urbana, Champaign County, Illinois, 61801, United States\n",
      "Mumford Hall , Illinois /// Mumford Hall, 700, West Brompton Avenue, Northalsted, Lake View, Chicago, Lake View Township, Cook County, Illinois, 60657, United States\n",
      "Music Building , Illinois /// Music Building, 1114, West Nevada Street, Urbana, Champaign County, Illinois, 61801, United States\n",
      "No results found for National Soybean Res Ctr\n",
      "Natural History Building , Illinois /// Natural History Building, 1301, West Green Street, Urbana, Champaign County, Illinois, 61801, United States\n",
      "No results found for Newmark Civil Engineering Bldg\n",
      "Noble Hall , Illinois /// Noble Hall, Euclid Street, Stanley O. Ikenberry Commons, Champaign, Champaign County, Illinois, 61820, United States\n",
      "Noyes Laboratory , Illinois /// Noyes Laboratory, South Mathews Avenue, Urbana, Champaign County, Illinois, 61801, United States\n",
      "No results found for Nuclear Radiations Laboratory\n",
      "OSF Heart of Mary , Illinois /// OSF Heart of Mary Medical Center, 1400, West Park Street, Urbana, Champaign County, Illinois, 61801, United States\n",
      "No results found for Oakton Com Coll Des Plaines IL\n",
      "No results found for Outdoor Space\n",
      "No results found for Pennsylvania Lounge Bld - PAR\n",
      "Plant Sciences Laboratory , Illinois /// Plant Sciences Laboratory and Greenhouse, 1201, Peabody Drive, Urbana, Champaign County, Illinois, 61801, United States\n",
      "Psychology Building , Illinois /// Psychology Building, 603, East Daniel Street, Campustown, Champaign, Champaign County, Illinois, 61820, United States\n",
      "No results found for Richmond Studio\n",
      "Roger Adams Laboratory , Illinois /// Roger Adams Laboratory, West Oregon Street, Urbana, Champaign County, Illinois, 61801, United States\n",
      "No results found for Seitz Materials Research Lab\n",
      "No results found for Sidney Lu Mech Engr Bldg\n",
      "No results found for Siebel Center for Comp Sci\n",
      "Siebel Center for Design , Illinois /// Siebel Center for Design, South Fourth Street, Stanley O. Ikenberry Commons, Champaign, Champaign County, Illinois, 61820, United States\n",
      "Smith Memorial Hall , Illinois /// Smith Memorial Hall, 805, South Mathews Avenue, Urbana, Champaign County, Illinois, 61801, United States\n",
      "South Farms , Illinois /// Heritage Farms Ponds South, Lisle, DuPage County, Illinois, United States\n",
      "No results found for Speech & Hearing Science Bldg\n",
      "Spurlock Museum , Illinois /// Spurlock Museum, 600, South Gregory Street, Urbana, Champaign County, Illinois, 61801, United States\n",
      "Stock Pavilion , Illinois /// Stock Pavilion, 1402, West Pennsylvania Avenue, Urbana, Champaign County, Illinois, 61801, United States\n",
      "No results found for Student Dining & Res Program\n",
      "Talbot Laboratory , Illinois /// Talbot Laboratory, South Wright Street, Campustown, Champaign, Champaign County, Illinois, 61820, United States\n",
      "Temple Hoyne Buell Hall , Illinois /// Temple-Hoyne Buell Hall, Peabody Drive, Urbana, Champaign County, Illinois, 61820, United States\n",
      "Transportation Building , Illinois /// Transportation Building, 600, South Dearborn Street, Printer's Row, Loop, Chicago, Cook County, Illinois, 60605, United States\n",
      "Turner Hall , Illinois /// Turner Hall, South Prospect Street, Galena Historic District, Galena, West Galena Township, Jo Daviess County, Illinois, 61036, United States\n",
      "No results found for Vet Med Basic Sciences Bldg\n",
      "No results found for Veterinary Teaching Hospital\n",
      "No results found for Wardall Hall - ISR\n",
      "Washington DC , Illinois /// Illinois, Elm Walk, Washington, District of Columbia, 20245, United States\n",
      "Weston Hall , Illinois /// Weston Hall, 204, East Peabody Drive, Stanley O. Ikenberry Commons, Champaign, Champaign County, Illinois, 61820, United States\n",
      "Wohlers Hall , Illinois /// Wohlers Hall, 1206, West Gregory Drive, Champaign, Champaign County, Illinois, 61820, United States\n"
     ]
    }
   ],
   "source": [
    "for loc in locations.find({}):\n",
    "    coordinates = get_coordinates(loc[\"name\"])\n",
    "    \n",
    "    if coordinates is not None:\n",
    "        locations.update_one({\"name\": loc[\"name\"]}, {\"$set\": {\"coordinates\": coordinates}})"
   ]
  },
  {
   "cell_type": "code",
   "execution_count": null,
   "metadata": {},
   "outputs": [],
   "source": [
    "import requests\n",
    "def get_coordinates(query:str) -> tuple :\n",
    "    \"\"\"\n",
    "    Returns the coordinates of a location\n",
    "    \"\"\"\n",
    "    address = query + \" , Illinois\"\n",
    "    urlencoded = requests.utils.quote(address)\n",
    "    url = f\"https://nominatim.openstreetmap.org/search?q={urlencoded}&format=json\"\n",
    "    response = requests.get(url).json()\n",
    "    if len(response) == 0:\n",
    "        print(f\"No results found for {query}\")\n",
    "        return None\n",
    "    else:\n",
    "        print(address, '///', response[0][\"display_name\"])\n",
    "        return (float(response[0][\"lat\"]), float(response[0][\"lon\"]))"
   ]
  },
  {
   "cell_type": "code",
   "execution_count": null,
   "metadata": {},
   "outputs": [],
   "source": [
    "missing_coors = locations.find({\"coordinates\": {\"$exists\": False}})"
   ]
  },
  {
   "cell_type": "code",
   "execution_count": null,
   "metadata": {},
   "outputs": [
    {
     "name": "stdout",
     "output_type": "stream",
     "text": [
      "['Agricultural Engr Sciences Bld', 'Allen Residence Hall', 'Architecture Annex', 'Art and Design Building', 'Art-East Annex, Studio 2', 'Business Instructional Fac', 'Chemical and Life Sci Lab', 'Civil & Envir Eng Bldg', 'Civil Eng Hydrosystems Lab', 'Coordinated Science Lab', 'E R Madigan Laboratory', 'Electrical & Computer Eng Bldg', 'Expanded Child Dev Lab', 'FAR Meeting Space', 'Grad Sch of Lib & Info Science', 'Illinois Street Residence Lng', 'Inst Labor &  Industrial Rel', 'Krannert Center for Perf Arts', 'Literatures, Cultures, & Ling', 'Materials Science & Eng Bld', 'Meat Science Laboratory', 'Micro & Nanotechnology Lab', 'National Soybean Res Ctr', 'Newmark Civil Engineering Bldg', 'Nuclear Radiations Laboratory', 'Oakton Com Coll Des Plaines IL', 'Outdoor Space', 'Pennsylvania Lounge Bld - PAR', 'Richmond Studio', 'Seitz Materials Research Lab', 'Sidney Lu Mech Engr Bldg', 'Siebel Center for Comp Sci', 'Speech & Hearing Science Bldg', 'Student Dining & Res Program', 'Vet Med Basic Sciences Bldg', 'Veterinary Teaching Hospital', 'Wardall Hall - ISR']\n"
     ]
    }
   ],
   "source": [
    "names = [x['name'] for x in missing_coors]\n",
    "print(names)"
   ]
  }
 ],
 "metadata": {
  "kernelspec": {
   "display_name": "Python 3",
   "language": "python",
   "name": "python3"
  },
  "language_info": {
   "codemirror_mode": {
    "name": "ipython",
    "version": 3
   },
   "file_extension": ".py",
   "mimetype": "text/x-python",
   "name": "python",
   "nbconvert_exporter": "python",
   "pygments_lexer": "ipython3",
   "version": "3.10.12"
  },
  "orig_nbformat": 4
 },
 "nbformat": 4,
 "nbformat_minor": 2
}
