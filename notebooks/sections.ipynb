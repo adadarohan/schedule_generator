{
 "cells": [
  {
   "cell_type": "code",
   "execution_count": 1,
   "metadata": {},
   "outputs": [],
   "source": [
    "from dotenv import load_dotenv\n",
    "import os\n",
    "load_dotenv()\n",
    "mongodb_uri = os.environ.get(\"MONGODB_URI\")"
   ]
  },
  {
   "cell_type": "code",
   "execution_count": 2,
   "metadata": {},
   "outputs": [],
   "source": [
    "import pymongo\n",
    "from tqdm import tqdm \n",
    "client = pymongo.MongoClient(mongodb_uri)\n",
    "db = client[\"schedule\"]"
   ]
  },
  {
   "cell_type": "code",
   "execution_count": 3,
   "metadata": {},
   "outputs": [],
   "source": [
    "import requests\n",
    "import time\n",
    "import xml.etree.ElementTree as ET  # for parsing XML\n",
    "import multiprocessing as mp\n",
    "from datetime import datetime\n",
    "from pymongo import UpdateOne\n",
    "\n",
    "classes = db[\"classes\"]\n",
    "locations = db[\"locations\"]"
   ]
  },
  {
   "cell_type": "code",
   "execution_count": 4,
   "metadata": {},
   "outputs": [],
   "source": [
    "def find_validate_xml (base, search) : \n",
    "    try :\n",
    "        return base.find(search).text\n",
    "    except :\n",
    "        return None"
   ]
  },
  {
   "cell_type": "code",
   "execution_count": 5,
   "metadata": {},
   "outputs": [],
   "source": [
    "def update_sections (clas):\n",
    "\n",
    "    resp = requests.get(clas[\"api_link\"])\n",
    "    if resp.status_code == 404 :\n",
    "        print(\"Error Link not found: \" + clas)\n",
    "        raise Exception(\"Error Link not found: \" + clas[\"name\"])\n",
    "    if resp.status_code != 200 :\n",
    "        print(\"Error: \" + clas[\"name\"])\n",
    "        print(clas[\"api_link\"])\n",
    "        raise Exception(f\"Error: {resp.status_code} {clas['name']} {clas['api_link']}\")\n",
    "    \n",
    "    clas_root = ET.fromstring(resp.content)\n",
    "    sections = []\n",
    "\n",
    "    for section in clas_root.find(\"sections\").findall(\"section\") :\n",
    "        resp = requests.get(section.attrib[\"href\"])\n",
    "        if resp.status_code == 404 :\n",
    "            print(\"Error Link not found: \" + section[\"name\"])\n",
    "            continue\n",
    "        if resp.status_code != 200 :\n",
    "            print(\"Error: \" + section[\"name\"])\n",
    "            print(section[\"api_link\"])\n",
    "            continue\n",
    "            \n",
    "        try :\n",
    "            section_root = ET.fromstring(resp.content)\n",
    "        except :\n",
    "            print(\"Error parsing XML: \" + section[\"crn\"])\n",
    "            continue\n",
    "        \n",
    "        section_number = find_validate_xml(section_root, \"sectionNumber\")\n",
    "        status_code = find_validate_xml(section_root, \"statusCode\")\n",
    "        part_of_term = find_validate_xml(section_root, \"partOfTerm\")\n",
    "        section_status_code = find_validate_xml(section_root, \"sectionStatusCode\")\n",
    "        enrollment_status = find_validate_xml(section_root, \"enrollmentStatus\")\n",
    "        section_text = find_validate_xml(section_root, \"sectionText\")\n",
    "\n",
    "        try :\n",
    "            start_date_string = section_root.find(\"startDate\").text # 2023-08-21Z\n",
    "            start_date = datetime.strptime(start_date_string, \"%Y-%m-%dZ\")\n",
    "        except :\n",
    "            start_date = None\n",
    "        \n",
    "        try : \n",
    "            end_date_string = section_root.find(\"endDate\").text # 2023-12-09Z\n",
    "            end_date = datetime.strptime(end_date_string, \"%Y-%m-%dZ\")\n",
    "        except :\n",
    "            end_date = None\n",
    "\n",
    "        meetings = []\n",
    "        for meeting in section_root.find(\"meetings\").findall(\"meeting\") :\n",
    "\n",
    "            try :\n",
    "                start_string = meeting.find(\"start\").text # 09:00 AM\n",
    "                start_time = datetime.strptime(start_string, \"%I:%M %p\")\n",
    "            except:\n",
    "                start_time = None\n",
    "\n",
    "            try : \n",
    "                end_string = meeting.find(\"end\").text # 09:50 AM\n",
    "                end_time = datetime.strptime(end_string, \"%I:%M %p\")\n",
    "            except :\n",
    "                end_time = None\n",
    "\n",
    "            instructors = []\n",
    "            for instructor in meeting.find(\"instructors\").findall(\"instructor\") :\n",
    "                instructors.append(instructor.text)\n",
    "\n",
    "            try : \n",
    "                type_code = meeting.find(\"type\").attrib[\"code\"]\n",
    "            except :\n",
    "                type_code = None\n",
    "            \n",
    "            try :\n",
    "                building_name = find_validate_xml(meeting, \"buildingName\")\n",
    "                if building_name is None :\n",
    "                    coordinates = None\n",
    "                else :\n",
    "                    coordinates = locations.find_one({\"name\": building_name}).get(\"coordinates\", None)\n",
    "            except Exception as e :\n",
    "                print(f\"Error finding coordinates for {building_name} with error {e} \")\n",
    "                coordinates = None\n",
    "\n",
    "            meetings.append({\n",
    "                'id': meeting.attrib[\"id\"],\n",
    "                'type' : find_validate_xml(meeting, \"type\"),\n",
    "                'type_code' : type_code,\n",
    "                'start_time' : start_time,\n",
    "                'end_time' : end_time,\n",
    "                'days' : find_validate_xml(meeting, \"daysOfTheWeek\"),\n",
    "                'room_number' : find_validate_xml(meeting, \"roomNumber\"),\n",
    "                'building_name' : find_validate_xml(meeting, \"buildingName\"),\n",
    "                'coordinates' : coordinates,\n",
    "            })\n",
    "\n",
    "        sections.append({\n",
    "            'crn': section.attrib[\"id\"],\n",
    "            'api_link': section.attrib[\"href\"],\n",
    "            'section_number': section_number, \n",
    "            'status_code': status_code,\n",
    "            'part_of_term': part_of_term,\n",
    "            'section_status_code': section_status_code,\n",
    "            'enrollment_status': enrollment_status,\n",
    "            'section_text': section_text,\n",
    "            'start_date': start_date,\n",
    "            'end_date': end_date,\n",
    "            'meetings': meetings,\n",
    "        })\n",
    "\n",
    "    return UpdateOne({'_id': clas['_id']}, {'$set': {'sections': sections, 'last_updated': datetime.now()}})\n",
    "    \n"
   ]
  },
  {
   "cell_type": "code",
   "execution_count": 6,
   "metadata": {},
   "outputs": [
    {
     "name": "stderr",
     "output_type": "stream",
     "text": [
      "  0%|          | 0/4449 [00:00<?, ?it/s]\n"
     ]
    },
    {
     "ename": "TypeError",
     "evalue": "element indices must be integers",
     "output_type": "error",
     "traceback": [
      "\u001b[0;31m---------------------------------------------------------------------------\u001b[0m",
      "\u001b[0;31mTypeError\u001b[0m                                 Traceback (most recent call last)",
      "\u001b[1;32m/home/rohan/code/schedule_generator/notebooks/sections.ipynb Cell 6\u001b[0m line \u001b[0;36m6\n\u001b[1;32m      <a href='vscode-notebook-cell://wsl%2Bubuntu-20.04/home/rohan/code/schedule_generator/notebooks/sections.ipynb#W5sdnNjb2RlLXJlbW90ZQ%3D%3D?line=2'>3</a>\u001b[0m outputs \u001b[39m=\u001b[39m []\n\u001b[1;32m      <a href='vscode-notebook-cell://wsl%2Bubuntu-20.04/home/rohan/code/schedule_generator/notebooks/sections.ipynb#W5sdnNjb2RlLXJlbW90ZQ%3D%3D?line=4'>5</a>\u001b[0m \u001b[39mfor\u001b[39;00m clas \u001b[39min\u001b[39;00m tqdm(list_of_classes) :\n\u001b[0;32m----> <a href='vscode-notebook-cell://wsl%2Bubuntu-20.04/home/rohan/code/schedule_generator/notebooks/sections.ipynb#W5sdnNjb2RlLXJlbW90ZQ%3D%3D?line=5'>6</a>\u001b[0m     outputs\u001b[39m.\u001b[39mappend(update_sections(clas))\n\u001b[1;32m      <a href='vscode-notebook-cell://wsl%2Bubuntu-20.04/home/rohan/code/schedule_generator/notebooks/sections.ipynb#W5sdnNjb2RlLXJlbW90ZQ%3D%3D?line=6'>7</a>\u001b[0m     time\u001b[39m.\u001b[39msleep(\u001b[39m2\u001b[39m)\n\u001b[1;32m     <a href='vscode-notebook-cell://wsl%2Bubuntu-20.04/home/rohan/code/schedule_generator/notebooks/sections.ipynb#W5sdnNjb2RlLXJlbW90ZQ%3D%3D?line=9'>10</a>\u001b[0m results \u001b[39m=\u001b[39m db\u001b[39m.\u001b[39mclasses\u001b[39m.\u001b[39mbulk_write(outputs)\n",
      "\u001b[1;32m/home/rohan/code/schedule_generator/notebooks/sections.ipynb Cell 6\u001b[0m line \u001b[0;36m1\n\u001b[1;32m     <a href='vscode-notebook-cell://wsl%2Bubuntu-20.04/home/rohan/code/schedule_generator/notebooks/sections.ipynb#W5sdnNjb2RlLXJlbW90ZQ%3D%3D?line=15'>16</a>\u001b[0m resp \u001b[39m=\u001b[39m requests\u001b[39m.\u001b[39mget(section\u001b[39m.\u001b[39mattrib[\u001b[39m\"\u001b[39m\u001b[39mhref\u001b[39m\u001b[39m\"\u001b[39m])\n\u001b[1;32m     <a href='vscode-notebook-cell://wsl%2Bubuntu-20.04/home/rohan/code/schedule_generator/notebooks/sections.ipynb#W5sdnNjb2RlLXJlbW90ZQ%3D%3D?line=16'>17</a>\u001b[0m \u001b[39mif\u001b[39;00m resp\u001b[39m.\u001b[39mstatus_code \u001b[39m==\u001b[39m \u001b[39m404\u001b[39m :\n\u001b[0;32m---> <a href='vscode-notebook-cell://wsl%2Bubuntu-20.04/home/rohan/code/schedule_generator/notebooks/sections.ipynb#W5sdnNjb2RlLXJlbW90ZQ%3D%3D?line=17'>18</a>\u001b[0m     \u001b[39mprint\u001b[39m(\u001b[39m\"\u001b[39m\u001b[39mError Link not found: \u001b[39m\u001b[39m\"\u001b[39m \u001b[39m+\u001b[39m section[\u001b[39m\"\u001b[39;49m\u001b[39mname\u001b[39;49m\u001b[39m\"\u001b[39;49m])\n\u001b[1;32m     <a href='vscode-notebook-cell://wsl%2Bubuntu-20.04/home/rohan/code/schedule_generator/notebooks/sections.ipynb#W5sdnNjb2RlLXJlbW90ZQ%3D%3D?line=18'>19</a>\u001b[0m     \u001b[39mcontinue\u001b[39;00m\n\u001b[1;32m     <a href='vscode-notebook-cell://wsl%2Bubuntu-20.04/home/rohan/code/schedule_generator/notebooks/sections.ipynb#W5sdnNjb2RlLXJlbW90ZQ%3D%3D?line=19'>20</a>\u001b[0m \u001b[39mif\u001b[39;00m resp\u001b[39m.\u001b[39mstatus_code \u001b[39m!=\u001b[39m \u001b[39m200\u001b[39m :\n",
      "\u001b[0;31mTypeError\u001b[0m: element indices must be integers"
     ]
    }
   ],
   "source": [
    "# list_of_classes = list(classes.find({'sections.status_code': {'$exists': False}}))\n",
    "list_of_classes = list(classes.find({'year' : 2024}))\n",
    "outputs = []\n",
    "\n",
    "for clas in tqdm(list_of_classes) :\n",
    "    outputs.append(update_sections(clas))\n",
    "    time.sleep(1)\n",
    "    \n",
    "\n",
    "results = db.classes.bulk_write(outputs)\n",
    "print(results)"
   ]
  }
 ],
 "metadata": {
  "kernelspec": {
   "display_name": "Python 3",
   "language": "python",
   "name": "python3"
  },
  "language_info": {
   "codemirror_mode": {
    "name": "ipython",
    "version": 3
   },
   "file_extension": ".py",
   "mimetype": "text/x-python",
   "name": "python",
   "nbconvert_exporter": "python",
   "pygments_lexer": "ipython3",
   "version": "3.10.12"
  },
  "orig_nbformat": 4
 },
 "nbformat": 4,
 "nbformat_minor": 2
}
