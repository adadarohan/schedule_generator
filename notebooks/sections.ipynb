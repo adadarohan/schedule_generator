{
 "cells": [
  {
   "cell_type": "code",
   "execution_count": 1,
   "metadata": {},
   "outputs": [],
   "source": [
    "import pymongo\n",
    "client = pymongo.MongoClient(mongodb_uri)\n",
    "db = client[\"schedule\"]"
   ]
  },
  {
   "cell_type": "code",
   "execution_count": 12,
   "metadata": {},
   "outputs": [],
   "source": [
    "import requests\n",
    "import xml.etree.ElementTree as ET  # for parsing XML\n",
    "import multiprocessing as mp\n",
    "from datetime import datetime\n",
    "\n",
    "classes = db[\"classes\"]"
   ]
  },
  {
   "cell_type": "code",
   "execution_count": 10,
   "metadata": {},
   "outputs": [
    {
     "name": "stdout",
     "output_type": "stream",
     "text": [
      "Error Link not found: Grain Bioprocessing Coproducts\n"
     ]
    }
   ],
   "source": [
    "for clas in classes.find({'sections': {'$exists': False}}) :\n",
    "    resp = requests.get(clas[\"api_link\"])\n",
    "    if resp.status_code == 404 :\n",
    "        print(\"Error Link not found: \" + clas[\"name\"])\n",
    "        classes.delete_one({\"_id\": clas[\"_id\"]})\n",
    "        continue\n",
    "    if resp.status_code != 200 :\n",
    "        print(\"Error: \" + clas[\"name\"])\n",
    "        print(clas[\"api_link\"])\n",
    "        continue\n",
    "    clas_root = ET.fromstring(resp.content)\n",
    "    try : \n",
    "        description = clas_root.find(\"description\").text\n",
    "    except :\n",
    "        print(\"Description not found for \" + clas[\"name\"])\n",
    "        print(clas[\"api_link\"])\n",
    "        description = \"\"\n",
    "    credit_hours = clas_root.find(\"creditHours\").text\n",
    "    sections = []\n",
    "    for section in clas_root.find(\"sections\").findall(\"section\") :\n",
    "        sections.append({\n",
    "            'crn': section.attrib[\"id\"],\n",
    "            'api_link': section.attrib[\"href\"],\n",
    "            'name': section.text\n",
    "        })\n",
    "    classes.update_one({\"_id\": clas[\"_id\"]}, {\"$set\": {\"description\": description, \"credit_hours\": credit_hours, \"sections\": sections}})"
   ]
  },
  {
   "cell_type": "code",
   "execution_count": 38,
   "metadata": {},
   "outputs": [],
   "source": [
    "def find_validate_xml (base, search) : \n",
    "    try :\n",
    "        return base.find(search).text\n",
    "    except :\n",
    "        return None"
   ]
  },
  {
   "cell_type": "code",
   "execution_count": 39,
   "metadata": {},
   "outputs": [],
   "source": [
    "def update_sections (clas):\n",
    "    for section in clas['sections'] :\n",
    "        resp = requests.get(section[\"api_link\"])\n",
    "        if resp.status_code == 404 :\n",
    "            print(\"Error Link not found: \" + section[\"name\"])\n",
    "            continue\n",
    "        if resp.status_code != 200 :\n",
    "            print(\"Error: \" + section[\"name\"])\n",
    "            print(section[\"api_link\"])\n",
    "            continue\n",
    "            \n",
    "        try :\n",
    "            section_root = ET.fromstring(resp.content)\n",
    "        except :\n",
    "            print(\"Error parsing XML: \" + section[\"crn\"])\n",
    "            continue\n",
    "        \n",
    "        status_code = find_validate_xml(section_root, \"statusCode\")\n",
    "        part_of_term = find_validate_xml(section_root, \"partOfTerm\")\n",
    "        section_status_code = find_validate_xml(section_root, \"sectionStatusCode\")\n",
    "        enrollment_status = find_validate_xml(section_root, \"enrollmentStatus\")\n",
    "\n",
    "        try :\n",
    "            start_date_string = section_root.find(\"startDate\").text # 2023-08-21Z\n",
    "            start_date = datetime.strptime(start_date_string, \"%Y-%m-%dZ\")\n",
    "        except :\n",
    "            start_date = None\n",
    "        \n",
    "        try : \n",
    "            end_date_string = section_root.find(\"endDate\").text # 2023-12-09Z\n",
    "            end_date = datetime.strptime(end_date_string, \"%Y-%m-%dZ\")\n",
    "        except :\n",
    "            end_date = None\n",
    "\n",
    "        meetings = []\n",
    "        for meeting in section_root.find(\"meetings\").findall(\"meeting\") :\n",
    "\n",
    "            try :\n",
    "                start_string = meeting.find(\"start\").text # 09:00 AM\n",
    "                start_time = datetime.strptime(start_string, \"%I:%M %p\")\n",
    "            except:\n",
    "                start_time = None\n",
    "\n",
    "            try : \n",
    "                end_string = meeting.find(\"end\").text # 09:50 AM\n",
    "                end_time = datetime.strptime(end_string, \"%I:%M %p\")\n",
    "            except :\n",
    "                end_time = None\n",
    "\n",
    "            instructors = []\n",
    "            for instructor in meeting.find(\"instructors\").findall(\"instructor\") :\n",
    "                instructors.append(instructor.text)\n",
    "\n",
    "            try : \n",
    "                type_code = meeting.find(\"type\").attrib[\"code\"]\n",
    "            except :\n",
    "                type_code = None\n",
    "\n",
    "            meetings.append({\n",
    "                'id': meeting.attrib[\"id\"],\n",
    "                'type' : find_validate_xml(meeting, \"type\"),\n",
    "                'type_code' : type_code,\n",
    "                'start_time' : start_time,\n",
    "                'end_time' : end_time,\n",
    "                'days' : find_validate_xml(meeting, \"days\"),\n",
    "                'room_number' : find_validate_xml(meeting, \"roomNumber\"),\n",
    "                'building_name' : find_validate_xml(meeting, \"buildingName\"),\n",
    "\n",
    "            })\n",
    "\n",
    "        classes.update_one(\n",
    "            {\"_id\": clas[\"_id\"], \"sections.crn\": section[\"crn\"]}, \n",
    "            {\"$set\": {\"sections.$.status_code\": status_code, \"sections.$.part_of_term\": part_of_term, \"sections.$.section_status_code\": section_status_code, \"sections.$.enrollment_status\": enrollment_status, \"sections.$.start_date\": start_date, \"sections.$.end_date\": end_date, \"sections.$.meetings\": meetings}})"
   ]
  },
  {
   "cell_type": "code",
   "execution_count": 40,
   "metadata": {},
   "outputs": [
    {
     "name": "stdout",
     "output_type": "stream",
     "text": [
      "Error Link not found: MLC\n"
     ]
    }
   ],
   "source": [
    "# list_of_classes = list(classes.find({'sections.status_code': {'$exists': False}}))\n",
    "list_of_classes = list(classes.find({}))\n",
    "\n",
    "pool = mp.Pool(mp.cpu_count())\n",
    "pool.map(update_sections, list_of_classes)\n",
    "pool.close()\n"
   ]
  }
 ],
 "metadata": {
  "kernelspec": {
   "display_name": "Python 3",
   "language": "python",
   "name": "python3"
  },
  "language_info": {
   "codemirror_mode": {
    "name": "ipython",
    "version": 3
   },
   "file_extension": ".py",
   "mimetype": "text/x-python",
   "name": "python",
   "nbconvert_exporter": "python",
   "pygments_lexer": "ipython3",
   "version": "3.10.12"
  },
  "orig_nbformat": 4
 },
 "nbformat": 4,
 "nbformat_minor": 2
}
