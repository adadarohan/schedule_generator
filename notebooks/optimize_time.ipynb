{
 "cells": [
  {
   "cell_type": "code",
   "execution_count": 87,
   "metadata": {},
   "outputs": [],
   "source": [
    "import pymongo\n",
    "from dotenv import load_dotenv\n",
    "import os\n",
    "import itertools\n",
    "import haversine as hs\n",
    "import json\n",
    "import time\n",
    "from math import pi, sqrt, cos, prod\n",
    "\n",
    "load_dotenv()\n",
    "\n",
    "mongodb_uri = os.environ.get(\"MONGODB_URI\")\n",
    "client = pymongo.MongoClient(mongodb_uri)\n",
    "db = client[\"schedule\"]\n",
    "classes = db[\"classes\"]\n",
    "locations = db[\"locations\"]"
   ]
  },
  {
   "cell_type": "code",
   "execution_count": 88,
   "metadata": {},
   "outputs": [],
   "source": [
    "weights = {\n",
    "    \"distance\": 40,\n",
    "    \"back_to_back\": 10,\n",
    "    \"time\": 50,\n",
    "    \"section\": 30,\n",
    "    \"lunch\": 20\n",
    "}\n",
    "\n",
    "class ScheduleException(Exception):\n",
    "    pass\n",
    "\n",
    "class ScheduleOverlapException(Exception):\n",
    "    # When a schedule is not possible because 2 classes overlap time-wise\n",
    "    pass"
   ]
  },
  {
   "cell_type": "code",
   "execution_count": 89,
   "metadata": {},
   "outputs": [],
   "source": [
    "def check_for_no_section(classes_to_take, open_sections_filter_applied):\n",
    "    for clas in classes_to_take:\n",
    "        if len(clas[\"sections\"]) == 0:\n",
    "            if (open_sections_filter_applied):\n",
    "                raise ScheduleException(f\"No open sections found for {clas['code']} {clas['number']} in your specified time range. Please try again with a different time range.\")\n",
    "            else:\n",
    "                raise ScheduleException(f\"No sections found for {clas['code']} {clas['number']} in your specified time range. Please try again with a different time range.\")\n",
    "\n",
    "\n",
    "def fetch_section_data(class_list):\n",
    "    \"\"\"\n",
    "    Fetches the section data from the database\n",
    "    \"\"\"\n",
    "    for class_ in class_list:\n",
    "        clas_mongo_object = classes.find_one({\"code\": class_[\"code\"], \"number\": class_[\n",
    "                                             \"number\"], \"year\": 2024, \"semester\": \"spring\"})\n",
    "        class_[\"sections\"] = []\n",
    "        for section in clas_mongo_object[\"sections\"]:\n",
    "            if section[\"crn\"] in class_[\"crn_list\"]:\n",
    "                section[\"class\"] = {\n",
    "                    \"code\": class_[\"code\"],\n",
    "                    \"number\": class_[\"number\"]\n",
    "                }\n",
    "                # Drop online lecture sections\n",
    "                meeting_type_codes = [meeting[\"type_code\"] for meeting in section[\"meetings\"]]\n",
    "                if (\"OLC\" in meeting_type_codes):\n",
    "                    continue\n",
    "                class_[\"sections\"].append(section)\n",
    "\n",
    "    return class_list\n",
    "\n",
    "\n",
    "def is_preferred_time(section, start_time, end_time):\n",
    "    earliest_meeting = start_time\n",
    "    latest_meeting = end_time\n",
    "\n",
    "    for meeting in section[\"meetings\"]:\n",
    "        if meeting['start_time'] is None or meeting['end_time'] is None:\n",
    "            continue\n",
    "        if meeting['start_time'].hour < earliest_meeting:\n",
    "            earliest_meeting = meeting['start_time'].hour\n",
    "        if meeting['end_time'].hour > latest_meeting:\n",
    "            latest_meeting = meeting['end_time'].hour\n",
    "\n",
    "    return earliest_meeting >= start_time and latest_meeting <= end_time\n",
    "\n",
    "\n",
    "def delete_unpreferred_sections(class_list, start_time, end_time):\n",
    "    for clas in class_list:\n",
    "        clas[\"sections\"] = [section for section in clas['sections'] if is_preferred_time(section, start_time, end_time)]\n",
    "    return class_list\n",
    "\n",
    "\n",
    "def delete_closed_sections(class_list, open_sections_only):\n",
    "    if open_sections_only:\n",
    "        for clas in class_list:\n",
    "            clas[\"sections\"] = [section for section in clas['sections']\n",
    "                                if section['enrollment_status'].lower() != 'closed']\n",
    "    return class_list\n",
    "\n",
    "\n",
    "def apply_hard_filters(user_preferences):\n",
    "    class_list = fetch_section_data(user_preferences[\"classes\"])\n",
    "    class_list = delete_unpreferred_sections(class_list, user_preferences[\"start_time\"], user_preferences[\"end_time\"])\n",
    "    check_for_no_section(class_list, False)  # Check if any class has no sections\n",
    "\n",
    "    class_list = delete_closed_sections(class_list, user_preferences[\"open_sections_only\"])\n",
    "\n",
    "    check_for_no_section(class_list, True)  # Check if any class has no sections\n",
    "\n",
    "    return class_list\n",
    "\n",
    "\n",
    "def remove_duplicates(grouped_sections, pref_sections):\n",
    "    hash_list = set()\n",
    "    new_list = []\n",
    "    for section in grouped_sections:\n",
    "        section_hash = f\"{section['meetings'][0]['coordinates']}_{section['meetings'][0]['start_time']}_{section['meetings'][0]['end_time']}_{section['meetings'][0]['days']}\"\n",
    "        if section_hash not in hash_list:\n",
    "            hash_list.add(section_hash)\n",
    "            new_list.append(section)\n",
    "        elif section['crn'] in pref_sections:\n",
    "            new_list.append(section)\n",
    "\n",
    "    return new_list\n",
    "\n",
    "\n",
    "def generate_schedule_combinations(class_list, user_preferences):\n",
    "    \"\"\"\n",
    "    Generates all possible schedules\n",
    "    \"\"\"\n",
    "    groups = {}\n",
    "\n",
    "    # Split classes into groups based on meeting types\n",
    "    for clas in class_list:\n",
    "        base_group_name = f\"{clas['code']}_{clas['number']}_\"\n",
    "        for section in clas['sections']:\n",
    "            list_of_meeting_types = [meeting['type_code']\n",
    "                                     for meeting in section['meetings']]\n",
    "            group_key = base_group_name + \\\n",
    "                \"_\".join([str(x) for x in list_of_meeting_types])\n",
    "            groups[group_key] = groups.get(group_key, []) + [section]\n",
    "\n",
    "    un_duplicated_groups = {}\n",
    "\n",
    "\n",
    "    # Remove groups with section which have the same days, times, and locations\n",
    "    for key, value in groups.items():\n",
    "        un_duplicated_groups[key] = remove_duplicates(value, user_preferences[\"pref_sections\"])\n",
    "\n",
    "    possible_schedules_len = prod([len(x) for x in un_duplicated_groups.values()])\n",
    "    possible_schedules = itertools.product(*un_duplicated_groups.values())\n",
    "    print(f\"Possible schedules: {possible_schedules_len}\")\n",
    "    return possible_schedules"
   ]
  },
  {
   "cell_type": "markdown",
   "metadata": {},
   "source": [
    "## Generate Hashmaps"
   ]
  },
  {
   "cell_type": "code",
   "execution_count": 90,
   "metadata": {},
   "outputs": [
    {
     "name": "stdout",
     "output_type": "stream",
     "text": [
      "Possible schedules: 4976640\n"
     ]
    }
   ],
   "source": [
    "from linetimer import CodeTimer\n",
    "user_prefs = {\"classes\": [{\"code\": \"ECE\", \"number\": \"110\", \"crn_list\": [\"32463\", \"32460\", \"52912\", \"32470\", \"52914\", \"52910\", \"32466\", \"32461\", \"52913\", \"32456\", \"52911\", \"63640\", \"32459\", \"32464\", \"32471\", \"52909\", \"61723\", \"57693\"]}, {\"code\": \"ECE\", \"number\": \"220\", \"crn_list\": [\"61635\", \"61638\", \"61640\", \"61641\", \"61642\", \"61643\", \"64369\", \"61629\", \"63649\", \"63650\"]}, {\"code\": \"PHYS\", \"number\": \"212\", \"crn_list\": [\"38029\", \"38032\", \"57914\", \"56034\", \"58663\", \"51211\", \"58664\", \"53105\", \"38051\", \"38057\", \"38104\", \"38059\", \"58662\", \"57937\", \"38062\",\n",
    "                                                                                                                                                                                                                                                                                                                                                                                                                                                                        \"57963\", \"58985\", \"58987\", \"58988\", \"58978\", \"58979\"]}, {\"code\": \"MATH\", \"number\": \"241\", \"crn_list\": [\"50318\", \"46053\", \"46054\", \"46056\", \"46057\", \"46058\", \"48355\", \"46061\", \"46062\", \"46065\", \"46066\", \"46063\", \"46064\", \"59561\", \"58071\", \"46060\", \"46067\", \"46059\", \"52979\", \"46070\", \"46071\", \"46072\", \"46073\", \"47543\", \"67808\", \"50322\", \"55923\", \"55924\", \"55925\", \"55922\", \"55926\", \"56027\", \"56026\", \"55921\", \"46074\"]}, {\"code\": \"CWL\", \"number\": \"207\", \"crn_list\": [\"65011\"]}], \"pref_sections\": [\"52914\", \"63640\", \"32471\", \"61643\", \"61642\", \"38096\", \"38088\", \"50318\"], \"classes_1\": [\"ECE 110\", \"ECE 220\", \"PHYS 212\", \"MATH 241\", \"CWL 207\"], \"open_sections_only\": False, \"start_time\": 10, \"end_time\": 21, \"pref_time\": 16, \"lunch\": {\"start\": 11, \"end\": 14, \"duration\": 1}, \"max_distance\": 800, \"back_to_back\": True}\n",
    "class_list = apply_hard_filters(user_prefs)\n",
    "possible_schedules = generate_schedule_combinations(class_list, user_prefs)\n"
   ]
  },
  {
   "cell_type": "markdown",
   "metadata": {},
   "source": [
    "## Initial Version"
   ]
  },
  {
   "cell_type": "code",
   "execution_count": 91,
   "metadata": {},
   "outputs": [],
   "source": [
    "def convert_to_time_based(list_of_sections):\n",
    "    schedule_slots = {\n",
    "        'W': [None]*23,\n",
    "        'R': [None]*23,\n",
    "        'F': [None]*23,\n",
    "        'T': [None]*23,\n",
    "        'M': [None]*23,\n",
    "    }\n",
    "\n",
    "    for section in list_of_sections:\n",
    "        for meeting in section['meetings']:\n",
    "\n",
    "            if meeting['start_time'] is None or meeting['end_time'] is None:\n",
    "                continue\n",
    "\n",
    "            start_hour = meeting['start_time'].hour\n",
    "            end_hour = meeting['end_time'].hour\n",
    "\n",
    "            for day in meeting['days'].strip():\n",
    "                for hour in range(start_hour, end_hour+1):\n",
    "\n",
    "                    if schedule_slots[day][hour] is not None:\n",
    "                        raise ScheduleOverlapException(\n",
    "                            f\"Schedule overlap between {schedule_slots[day][hour]['class']['code']} {schedule_slots[day][hour]['class']['number']} and {section['class']['code']} {section['class']['number']}\")\n",
    "                    schedule_slots[day][hour] = section\n",
    "\n",
    "    return schedule_slots"
   ]
  },
  {
   "cell_type": "code",
   "execution_count": 92,
   "metadata": {},
   "outputs": [
    {
     "name": "stdout",
     "output_type": "stream",
     "text": [
      "Code block took: 22627.08649 ms\n"
     ]
    }
   ],
   "source": [
    "with CodeTimer():\n",
    "    for schedule in possible_schedules:\n",
    "        try:\n",
    "            convert_to_time_based(schedule)\n",
    "        except ScheduleOverlapException:\n",
    "            continue"
   ]
  },
  {
   "cell_type": "markdown",
   "metadata": {},
   "source": [
    "## Hashmap of Times and Days"
   ]
  },
  {
   "cell_type": "code",
   "execution_count": 93,
   "metadata": {},
   "outputs": [],
   "source": [
    "def hash_schedules(class_list) :\n",
    "    hashmap = {}\n",
    "\n",
    "    for clas in class_list:\n",
    "        for section in clas['sections']:\n",
    "            for meeting in section['meetings']:\n",
    "                if meeting['start_time'] is None or meeting['end_time'] is None:\n",
    "                    continue\n",
    "                start_hour = meeting['start_time'].hour\n",
    "                end_hour = meeting['end_time'].hour\n",
    "                section_dict = {}\n",
    "                for day in list(meeting['days'].strip()):\n",
    "                    section_dict[day] = (start_hour, end_hour)\n",
    "                hashmap[section['crn']] = section_dict\n",
    "    \n",
    "    return hashmap"
   ]
  },
  {
   "cell_type": "code",
   "execution_count": 94,
   "metadata": {},
   "outputs": [],
   "source": [
    "def convert_to_time_2(list_of_sections, schedule_time_hashmap) :\n",
    "    schedule_slots = {\n",
    "        'W': [None]*23,\n",
    "        'R': [None]*23,\n",
    "        'F': [None]*23,\n",
    "        'T': [None]*23,\n",
    "        'M': [None]*23,\n",
    "    }\n",
    "\n",
    "    for section in list_of_sections:\n",
    "        for day in schedule_time_hashmap[section['crn']].keys() :\n",
    "            start_hour = schedule_time_hashmap[section['crn']][day][0]\n",
    "            end_hour = schedule_time_hashmap[section['crn']][day][1]\n",
    "            for hour in range(start_hour, end_hour+1):\n",
    "                section_copy = section\n",
    "                if schedule_slots[day][hour] is not None:\n",
    "                    raise ScheduleOverlapException(\n",
    "                        f\"Schedule overlap between {schedule_slots[day][hour]['class']['code']} {schedule_slots[day][hour]['class']['number']} and {section_copy['class']['code']} {section_copy['class']['number']}\")\n",
    "                schedule_slots[day][hour] = section_copy\n",
    "\n",
    "    return schedule_slots"
   ]
  },
  {
   "cell_type": "code",
   "execution_count": 95,
   "metadata": {},
   "outputs": [
    {
     "name": "stdout",
     "output_type": "stream",
     "text": [
      "Code block took: 0.15866 ms\n"
     ]
    }
   ],
   "source": [
    "with CodeTimer():\n",
    "    schedule_time_hashmap = hash_schedules(class_list)\n",
    "    for schedule in possible_schedules:\n",
    "        try:\n",
    "            convert_to_time_2(schedule, schedule_time_hashmap)\n",
    "        except ScheduleOverlapException:\n",
    "            continue"
   ]
  }
 ],
 "metadata": {
  "kernelspec": {
   "display_name": "Python 3",
   "language": "python",
   "name": "python3"
  },
  "language_info": {
   "codemirror_mode": {
    "name": "ipython",
    "version": 3
   },
   "file_extension": ".py",
   "mimetype": "text/x-python",
   "name": "python",
   "nbconvert_exporter": "python",
   "pygments_lexer": "ipython3",
   "version": "3.10.12"
  }
 },
 "nbformat": 4,
 "nbformat_minor": 2
}
