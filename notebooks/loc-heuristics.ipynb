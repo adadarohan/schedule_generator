{
 "cells": [
  {
   "cell_type": "code",
   "execution_count": 1,
   "metadata": {},
   "outputs": [],
   "source": [
    "import pymongo\n",
    "from dotenv import load_dotenv\n",
    "import os\n",
    "import time\n",
    "\n",
    "load_dotenv()\n",
    "mongodb_uri = os.getenv(\"MONGODB_URI\")\n",
    "client = pymongo.MongoClient(mongodb_uri)\n",
    "db = os.environ.get(\"MONGODB_DB\")\n",
    "locations = db[\"locations\"]"
   ]
  },
  {
   "cell_type": "code",
   "execution_count": 2,
   "metadata": {},
   "outputs": [
    {
     "name": "stdout",
     "output_type": "stream",
     "text": [
      "5995\n"
     ]
    }
   ],
   "source": [
    "import itertools\n",
    "coords_list = [ x['coordinates'] for x in list(locations.find({}, {\"_id\": 0, \"coordinates\": 1}))]\n",
    "coords_combos = list(itertools.combinations(coords_list, 2))\n",
    "print(len(coords_combos))"
   ]
  },
  {
   "cell_type": "code",
   "execution_count": 3,
   "metadata": {},
   "outputs": [
    {
     "name": "stdout",
     "output_type": "stream",
     "text": [
      "12.671452522277832\n"
     ]
    }
   ],
   "source": [
    "haversine_distances = []\n",
    "import haversine as hs\n",
    "\n",
    "start = time.time()\n",
    "\n",
    "for ele in coords_combos*1000:\n",
    "    haversine_distances.append(hs.haversine(ele[0], ele[1], unit=hs.Unit.METERS))\n",
    "\n",
    "haversine_time = time.time() - start\n",
    "print(haversine_time)"
   ]
  },
  {
   "cell_type": "code",
   "execution_count": 4,
   "metadata": {},
   "outputs": [
    {
     "name": "stdout",
     "output_type": "stream",
     "text": [
      "9.354665994644165\n"
     ]
    }
   ],
   "source": [
    "pc_distances = []\n",
    "from math import pi, sqrt, cos\n",
    "\n",
    "start = time.time()\n",
    "\n",
    "for ele in coords_combos*1000:\n",
    "    lat1 = ele[0][0] * (pi/180)\n",
    "    lon1 = ele[0][1] * (pi/180)\n",
    "    lat2 = ele[1][0] * (pi/180)\n",
    "    lon2 = ele[1][1] * (pi/180)\n",
    "\n",
    "    a = (pi/2) - lat1  \n",
    "    b = (pi/2) - lat2  \n",
    "    c = sqrt( (a**2) + (b**2) - (2 * a * b * cos(lon2 - lon1) ))   \n",
    "    pc_distances.append(6_371_000  * c)\n",
    "\n",
    "pc_time = time.time() - start\n",
    "print(pc_time)"
   ]
  },
  {
   "cell_type": "code",
   "execution_count": 5,
   "metadata": {},
   "outputs": [],
   "source": [
    "pyth_distances = []\n",
    "from math import pi, sqrt, cos\n",
    "\n",
    "start = time.time()\n",
    "\n",
    "\n",
    "for ele in coords_combos*1000:\n",
    "    lat1 = ele[0][0]  \n",
    "    lon1 = ele[0][1]  \n",
    "    lat2 = ele[1][0] \n",
    "    lon2 = ele[1][1] \n",
    "\n",
    "    avgLatDeg = (lat1 + lat2) / 2\n",
    "    avgLat = avgLatDeg * (pi/180)\n",
    "\n",
    "    d_ew = (lon2 - lon1) * cos(avgLat)\n",
    "    d_ns = (lat2 - lat1)\n",
    "    approxDegreesSq = (d_ew * d_ew) + (d_ns * d_ns)\n",
    "    d_degrees = sqrt(approxDegreesSq)\n",
    "    EarthAvgMeterPerGreatCircleDegree = (6371000 * 2 * pi) / 360\n",
    "    pyth_distances.append(d_degrees * EarthAvgMeterPerGreatCircleDegree )\n",
    "\n",
    "\n",
    "pyth_time = time.time() - start\n",
    "print(pyth_time)"
   ]
  },
  {
   "cell_type": "code",
   "execution_count": null,
   "metadata": {},
   "outputs": [],
   "source": [
    "import numpy as np\n",
    "\n",
    "def mape(y_test, pred):\n",
    "    y_test, pred = np.array(y_test), np.array(pred)\n",
    "    mape = np.mean(np.abs((y_test - pred) / y_test))\n",
    "    return mape*100"
   ]
  },
  {
   "cell_type": "code",
   "execution_count": null,
   "metadata": {},
   "outputs": [
    {
     "name": "stdout",
     "output_type": "stream",
     "text": [
      "4.858501884243121\n",
      "0.001829012508716104\n"
     ]
    }
   ],
   "source": [
    "print(mape(haversine_distances, pc_distances))\n",
    "print(mape(haversine_distances, pyth_distances))"
   ]
  }
 ],
 "metadata": {
  "kernelspec": {
   "display_name": "Python 3",
   "language": "python",
   "name": "python3"
  },
  "language_info": {
   "codemirror_mode": {
    "name": "ipython",
    "version": 3
   },
   "file_extension": ".py",
   "mimetype": "text/x-python",
   "name": "python",
   "nbconvert_exporter": "python",
   "pygments_lexer": "ipython3",
   "version": "3.10.12"
  }
 },
 "nbformat": 4,
 "nbformat_minor": 2
}
