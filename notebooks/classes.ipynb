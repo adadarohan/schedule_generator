{
 "cells": [
  {
   "cell_type": "code",
   "execution_count": 8,
   "metadata": {},
   "outputs": [],
   "source": [
    "import requests\n",
    "import xml.etree.ElementTree as ET  # for parsing XML"
   ]
  },
  {
   "cell_type": "code",
   "execution_count": 9,
   "metadata": {},
   "outputs": [],
   "source": [
    "from dotenv import load_dotenv\n",
    "import os\n",
    "load_dotenv()\n",
    "from time import sleep\n",
    "from tqdm import tqdm\n",
    "mongodb_uri = os.environ.get(\"MONGODB_URI\")"
   ]
  },
  {
   "cell_type": "code",
   "execution_count": 10,
   "metadata": {},
   "outputs": [],
   "source": [
    "base_semester_url = \"https://courses.illinois.edu/cisapp/explorer/schedule/2024/spring.xml\"\n",
    "\n",
    "subjects_list = []\n",
    "\n",
    "subjects_root = ET.fromstring(requests.get(base_semester_url).content)\n",
    "subjects_xml = subjects_root.find(\"subjects\").findall(\"subject\")"
   ]
  },
  {
   "cell_type": "code",
   "execution_count": 11,
   "metadata": {},
   "outputs": [
    {
     "name": "stderr",
     "output_type": "stream",
     "text": [
      " 55%|█████▍    | 104/190 [02:05<01:41,  1.18s/it]"
     ]
    }
   ],
   "source": [
    "courses_list = []\n",
    "\n",
    "for subject in tqdm(subjects_xml) : \n",
    "    course_root = ET.fromstring(requests.get(subject.attrib[\"href\"]).content)\n",
    "    course_xml = course_root.find(\"courses\").findall(\"course\")\n",
    "    for course in course_xml:\n",
    "        courses_list.append({\n",
    "            \"name\" : course.text,\n",
    "            \"number\" : course.attrib[\"id\"],\n",
    "            \"code\" : subject.attrib[\"id\"],\n",
    "            \"api_link\" : course.attrib[\"href\"],\n",
    "            \"year\" : 2024,\n",
    "            \"semester\" : \"spring\"\n",
    "        })\n",
    "    sleep(1)\n"
   ]
  },
  {
   "cell_type": "code",
   "execution_count": null,
   "metadata": {},
   "outputs": [
    {
     "name": "stdout",
     "output_type": "stream",
     "text": [
      "[{'name': 'Intro Asian American Studies', 'number': '100', 'code': 'AAS', 'api_link': 'https://courses.illinois.edu/cisapp/explorer/schedule/2024/spring/AAS/100.xml', 'year': 2024, 'semester': 'spring'}, {'name': 'U.S. Race and Empire', 'number': '200', 'code': 'AAS', 'api_link': 'https://courses.illinois.edu/cisapp/explorer/schedule/2024/spring/AAS/200.xml', 'year': 2024, 'semester': 'spring'}, {'name': 'US Racial & Ethnic Politics', 'number': '201', 'code': 'AAS', 'api_link': 'https://courses.illinois.edu/cisapp/explorer/schedule/2024/spring/AAS/201.xml', 'year': 2024, 'semester': 'spring'}, {'name': 'The Politics of Fashion', 'number': '275', 'code': 'AAS', 'api_link': 'https://courses.illinois.edu/cisapp/explorer/schedule/2024/spring/AAS/275.xml', 'year': 2024, 'semester': 'spring'}, {'name': 'Asian American History', 'number': '283', 'code': 'AAS', 'api_link': 'https://courses.illinois.edu/cisapp/explorer/schedule/2024/spring/AAS/283.xml', 'year': 2024, 'semester': 'spring'}, {'name': 'Asian American Literature', 'number': '286', 'code': 'AAS', 'api_link': 'https://courses.illinois.edu/cisapp/explorer/schedule/2024/spring/AAS/286.xml', 'year': 2024, 'semester': 'spring'}, {'name': 'Asian Families in America', 'number': '297', 'code': 'AAS', 'api_link': 'https://courses.illinois.edu/cisapp/explorer/schedule/2024/spring/AAS/297.xml', 'year': 2024, 'semester': 'spring'}, {'name': 'Theories of Race, Gender, and Sexuality', 'number': '300', 'code': 'AAS', 'api_link': 'https://courses.illinois.edu/cisapp/explorer/schedule/2024/spring/AAS/300.xml', 'year': 2024, 'semester': 'spring'}, {'name': 'Race and Cultural Diversity', 'number': '310', 'code': 'AAS', 'api_link': 'https://courses.illinois.edu/cisapp/explorer/schedule/2024/spring/AAS/310.xml', 'year': 2024, 'semester': 'spring'}, {'name': 'Literatures of the Displaced', 'number': '357', 'code': 'AAS', 'api_link': 'https://courses.illinois.edu/cisapp/explorer/schedule/2024/spring/AAS/357.xml', 'year': 2024, 'semester': 'spring'}, {'name': 'Race, Sex, and Deviance', 'number': '465', 'code': 'AAS', 'api_link': 'https://courses.illinois.edu/cisapp/explorer/schedule/2024/spring/AAS/465.xml', 'year': 2024, 'semester': 'spring'}, {'name': 'Youth, Culture and Society', 'number': '539', 'code': 'AAS', 'api_link': 'https://courses.illinois.edu/cisapp/explorer/schedule/2024/spring/AAS/539.xml', 'year': 2024, 'semester': 'spring'}]\n"
     ]
    }
   ],
   "source": [
    "print(courses_list)"
   ]
  },
  {
   "cell_type": "code",
   "execution_count": null,
   "metadata": {},
   "outputs": [],
   "source": [
    "import pymongo\n",
    "client = pymongo.MongoClient(mongodb_uri)\n",
    "db = client[\"schedule\"]"
   ]
  },
  {
   "cell_type": "code",
   "execution_count": null,
   "metadata": {},
   "outputs": [
    {
     "data": {
      "text/plain": [
       "<pymongo.results.InsertManyResult at 0x7f8990ce9690>"
      ]
     },
     "execution_count": 7,
     "metadata": {},
     "output_type": "execute_result"
    }
   ],
   "source": [
    "classes = db[\"classes\"]\n",
    "classes.insert_many(courses_list)"
   ]
  }
 ],
 "metadata": {
  "kernelspec": {
   "display_name": "Python 3",
   "language": "python",
   "name": "python3"
  },
  "language_info": {
   "codemirror_mode": {
    "name": "ipython",
    "version": 3
   },
   "file_extension": ".py",
   "mimetype": "text/x-python",
   "name": "python",
   "nbconvert_exporter": "python",
   "pygments_lexer": "ipython3",
   "version": "3.10.12"
  },
  "orig_nbformat": 4
 },
 "nbformat": 4,
 "nbformat_minor": 2
}
