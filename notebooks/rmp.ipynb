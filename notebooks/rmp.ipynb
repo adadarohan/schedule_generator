{
 "cells": [
  {
   "cell_type": "code",
   "execution_count": 27,
   "metadata": {},
   "outputs": [],
   "source": [
    "import requests\n",
    "import json\n",
    "\n",
    "url = \"https://www.ratemyprofessors.com/graphql\"\n",
    "\n",
    "headers = {\n",
    "    \"accept\": \"*/*\",\n",
    "    \"accept-language\": \"en-US,en;q=0.9\",\n",
    "    \"authorization\": \"Basic dGVzdDp0ZXN0\",\n",
    "    \"cache-control\": \"no-cache\",\n",
    "    \"content-type\": \"application/json\",\n",
    "    \"pragma\": \"no-cache\",\n",
    "    \"sec-ch-ua\": \"\\\"Not_A Brand\\\";v=\\\"8\\\", \\\"Chromium\\\";v=\\\"120\\\", \\\"Google Chrome\\\";v=\\\"120\\\"\",\n",
    "    \"sec-ch-ua-mobile\": \"?0\",\n",
    "    \"sec-ch-ua-platform\": \"\\\"Windows\\\"\",\n",
    "    \"sec-fetch-dest\": \"empty\",\n",
    "    \"sec-fetch-mode\": \"cors\",\n",
    "    \"sec-fetch-site\": \"same-origin\"\n",
    "}\n",
    "\n",
    "payload = {\n",
    "    \"query\": \"query TeacherSearchPaginationQuery($count: Int!, $cursor: String, $query: TeacherSearchQuery!) { search: newSearch { ...TeacherSearchPagination_search_1jWD3d } } fragment TeacherSearchPagination_search_1jWD3d on newSearch { teachers(query: $query, first: $count, after: $cursor) { didFallback edges { cursor node { ...TeacherCard_teacher id __typename } } pageInfo { hasNextPage endCursor } resultCount filters { field options { value id } } } } fragment TeacherCard_teacher on Teacher { id legacyId avgRating numRatings ...CardFeedback_teacher ...CardSchool_teacher ...CardName_teacher ...TeacherBookmark_teacher } fragment CardFeedback_teacher on Teacher { wouldTakeAgainPercent avgDifficulty } fragment CardSchool_teacher on Teacher { department school { name id } } fragment CardName_teacher on Teacher { firstName lastName } fragment TeacherBookmark_teacher on Teacher { id isSaved }\",\n",
    "    \"variables\": {\n",
    "        \"count\": 10_000,\n",
    "        \"cursor\": \"YXJyYXljb25uZWN0aW9uOjMx\",\n",
    "        \"query\": {\n",
    "            \"text\": \"\",\n",
    "            \"schoolID\": \"U2Nob29sLTExMTI=\",\n",
    "            \"fallback\": True,\n",
    "            \"departmentID\": None\n",
    "        }\n",
    "    }\n",
    "}\n",
    "\n",
    "response = requests.post(url, headers=headers, data=json.dumps(payload), cookies={'credentials': 'include'})\n",
    "\n",
    "data = response.json()"
   ]
  },
  {
   "cell_type": "code",
   "execution_count": 28,
   "metadata": {},
   "outputs": [],
   "source": [
    "edges = data['data']['search']['teachers']['edges']\n",
    "professor_data = []\n",
    "\n",
    "for edge in edges:\n",
    "    professor_data.append({\n",
    "        'first_name': edge['node']['firstName'],\n",
    "        'last_name': edge['node']['lastName'],\n",
    "        'full_name': edge['node']['firstName'] + ' ' + edge['node']['lastName'],\n",
    "        'avg_rating': edge['node']['avgRating'],\n",
    "        'rmp_link': f\"https://www.ratemyprofessors.com/professor/{edge['node']['legacyId']}\",\n",
    "        'college': 'uiuc',\n",
    "        'department': edge['node']['department']\n",
    "    })"
   ]
  },
  {
   "cell_type": "code",
   "execution_count": 29,
   "metadata": {},
   "outputs": [
    {
     "name": "stdout",
     "output_type": "stream",
     "text": [
      "{'cursor': 'YXJyYXljb25uZWN0aW9uOjMy', 'node': {'__typename': 'Teacher', 'avgDifficulty': 2.6, 'avgRating': 2.9, 'department': 'Political Science', 'firstName': 'Robert', 'id': 'VGVhY2hlci0xMjQwMjM=', 'isSaved': False, 'lastName': 'Weissberg', 'legacyId': 124023, 'numRatings': 9, 'school': {'id': 'U2Nob29sLTExMTI=', 'name': 'University Of Illinois at Urbana - Champaign'}, 'wouldTakeAgainPercent': -1}}\n"
     ]
    }
   ],
   "source": [
    "print(edges[0])"
   ]
  },
  {
   "cell_type": "code",
   "execution_count": 30,
   "metadata": {},
   "outputs": [],
   "source": [
    "import pymongo\n",
    "from dotenv import load_dotenv\n",
    "import os\n",
    "load_dotenv()\n",
    "\n",
    "mongodb_uri = os.environ.get(\"MONGODB_URI\")\n",
    "\n",
    "client = pymongo.MongoClient(mongodb_uri)\n",
    "db = client[os.environ.get(\"MONGODB_DB\")]\n",
    "professors = db['professors']"
   ]
  },
  {
   "cell_type": "code",
   "execution_count": 31,
   "metadata": {},
   "outputs": [
    {
     "data": {
      "text/plain": [
       "<pymongo.results.InsertManyResult at 0x7f3d35e52170>"
      ]
     },
     "execution_count": 31,
     "metadata": {},
     "output_type": "execute_result"
    }
   ],
   "source": [
    "professors.insert_many(professor_data)"
   ]
  }
 ],
 "metadata": {
  "language_info": {
   "name": "python"
  }
 },
 "nbformat": 4,
 "nbformat_minor": 2
}
